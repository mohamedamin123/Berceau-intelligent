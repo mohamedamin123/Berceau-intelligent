{
  "nbformat": 4,
  "nbformat_minor": 0,
  "metadata": {
    "colab": {
      "provenance": [],
      "gpuType": "T4"
    },
    "kernelspec": {
      "name": "python3",
      "display_name": "Python 3"
    },
    "language_info": {
      "name": "python"
    },
    "accelerator": "GPU"
  },
  "cells": [
    {
      "cell_type": "markdown",
      "source": [
        "**Importation des modeles**"
      ],
      "metadata": {
        "id": "eOGYUfgP6i7W"
      }
    },
    {
      "cell_type": "code",
      "execution_count": null,
      "metadata": {
        "collapsed": true,
        "id": "-fixvSWgeCjM"
      },
      "outputs": [],
      "source": [
        "\n",
        "# Importation des bibliothèques\n",
        "import os\n",
        "import librosa\n",
        "import numpy as np\n",
        "import matplotlib.pyplot as plt\n",
        "from sklearn.model_selection import train_test_split\n",
        "from sklearn.preprocessing import LabelEncoder\n",
        "import tensorflow as tf\n",
        "from tensorflow.keras.models import Sequential\n",
        "from tensorflow.keras.layers import Dense, Dropout, Flatten, Conv1D, MaxPooling1D, LSTM\n",
        "from tensorflow.keras.utils import to_categorical\n"
      ]
    },
    {
      "cell_type": "markdown",
      "source": [
        "**Paramètres audio**"
      ],
      "metadata": {
        "id": "hzC6pnB_6ns5"
      }
    },
    {
      "cell_type": "code",
      "source": [
        "SAMPLE_RATE = 22050  # Fréquence d'échantillonnage\n",
        "N_MFCC = 40  # Nombre de coefficients MFCC\n",
        "MAX_PAD_LENGTH = 100  # Longueur maximale du spectrogramme"
      ],
      "metadata": {
        "id": "Ir5GxPIC7JCH"
      },
      "execution_count": null,
      "outputs": []
    },
    {
      "cell_type": "markdown",
      "source": [
        "**Montage de Google Drive**"
      ],
      "metadata": {
        "id": "xzEJGMvV6uj_"
      }
    },
    {
      "cell_type": "code",
      "source": [
        "from google.colab import drive\n",
        "drive.mount('/content/drive')\n",
        "DATA_PATH = \"drive/MyDrive/dataset\""
      ],
      "metadata": {
        "id": "biGcpx9u6vq3",
        "colab": {
          "base_uri": "https://localhost:8080/"
        },
        "outputId": "35c12f49-c748-42b9-8903-dcccadee3a50"
      },
      "execution_count": null,
      "outputs": [
        {
          "output_type": "stream",
          "name": "stdout",
          "text": [
            "Mounted at /content/drive\n"
          ]
        }
      ]
    },
    {
      "cell_type": "markdown",
      "source": [
        "**Fonction pour extraire les MFCC**"
      ],
      "metadata": {
        "id": "FOlIxFbx7BeG"
      }
    },
    {
      "cell_type": "code",
      "source": [
        "import librosa\n",
        "import numpy as np\n",
        "\n",
        "SAMPLE_RATE = 22050\n",
        "N_MFCC = 40\n",
        "MAX_PAD_LENGTH = 100\n",
        "\n",
        "def extract_mfcc(file_path, max_pad_length=MAX_PAD_LENGTH):\n",
        "    try:\n",
        "        y, sr = librosa.load(file_path, sr=SAMPLE_RATE)\n",
        "    except Exception as e:\n",
        "        print(f\"Erreur fichier {file_path}: {e}\")\n",
        "        return None\n",
        "\n",
        "    mfcc = librosa.feature.mfcc(y=y, sr=sr, n_mfcc=N_MFCC)\n",
        "    delta = librosa.feature.delta(mfcc)\n",
        "    delta2 = librosa.feature.delta(mfcc, order=2)\n",
        "\n",
        "    features = np.concatenate((mfcc, delta, delta2))\n",
        "    features = (features - np.mean(features)) / np.std(features)\n",
        "    features = librosa.util.fix_length(features, size=max_pad_length, axis=1)\n",
        "\n",
        "    return features\n"
      ],
      "metadata": {
        "id": "ajKZdlxU6_ba"
      },
      "execution_count": null,
      "outputs": []
    },
    {
      "cell_type": "code",
      "source": [
        "import os\n",
        "from sklearn.preprocessing import StandardScaler\n",
        "from imblearn.over_sampling import RandomOverSampler\n",
        "from sklearn.model_selection import train_test_split\n",
        "from tensorflow.keras.utils import to_categorical\n",
        "\n",
        "def load_data(data_path):\n",
        "    labels = os.listdir(data_path)\n",
        "    label_map = {label: i for i, label in enumerate(labels)}\n",
        "    X, y = [], []\n",
        "\n",
        "    for label in labels:\n",
        "        files = os.listdir(os.path.join(data_path, label))\n",
        "        print(f\"{len(files)} fichiers pour {label}\")\n",
        "        for file in files:\n",
        "            mfcc = extract_mfcc(os.path.join(data_path, label, file))\n",
        "            if mfcc is not None:\n",
        "                X.append(mfcc)\n",
        "                y.append(label_map[label])\n",
        "\n",
        "    X = np.array(X)\n",
        "    y = np.array(y)\n",
        "\n",
        "    print(f\"Données : {X.shape}, Labels : {y.shape}\")\n",
        "\n",
        "    # Flatten for oversampling\n",
        "    X_flat = X.reshape(X.shape[0], -1)\n",
        "\n",
        "    # Oversampling\n",
        "    ros = RandomOverSampler(random_state=42)\n",
        "    X_res, y_res = ros.fit_resample(X_flat, y)\n",
        "\n",
        "    # Normalisation\n",
        "    X_res = X_res.astype('float32') / np.max(X_res)\n",
        "\n",
        "    # One-hot encode\n",
        "    y_res = to_categorical(y_res, num_classes=len(label_map))\n",
        "\n",
        "    return X_res, y_res, label_map\n"
      ],
      "metadata": {
        "collapsed": true,
        "id": "-6OU-_suusDw"
      },
      "execution_count": null,
      "outputs": []
    },
    {
      "cell_type": "code",
      "source": [
        "from tensorflow.keras.models import Sequential\n",
        "from tensorflow.keras.layers import Dense, Dropout, Flatten, Conv1D, MaxPooling1D, Reshape\n",
        "import matplotlib.pyplot as plt\n",
        "from sklearn.metrics import confusion_matrix, ConfusionMatrixDisplay\n",
        "import seaborn as sns\n",
        "\n",
        "# Charger les données\n",
        "X, y, label_map = load_data(DATA_PATH)\n",
        "\n",
        "# Train/test split\n",
        "X_train, X_test, y_train, y_test = train_test_split(X, y, test_size=0.2, random_state=42)\n",
        "\n",
        "# Sauvegarde versions reshape pour CNN\n",
        "X_train_cnn = X_train.reshape(X_train.shape[0], -1, 1)\n",
        "X_test_cnn = X_test.reshape(X_test.shape[0], -1, 1)\n",
        "\n",
        "# ---- MLP ----\n",
        "mlp_model = Sequential([\n",
        "    Dense(512, activation='relu', input_shape=(X_train.shape[1],)),\n",
        "    Dropout(0.3),\n",
        "    Dense(128, activation='relu'),\n",
        "    Dropout(0.2),\n",
        "    Dense(y_train.shape[1], activation='softmax')\n",
        "])\n",
        "\n",
        "mlp_model.compile(optimizer='adam', loss='categorical_crossentropy', metrics=['accuracy'])\n",
        "mlp_history = mlp_model.fit(X_train, y_train, epochs=30, batch_size=128, validation_data=(X_test, y_test))\n"
      ],
      "metadata": {
        "collapsed": true,
        "id": "ttrEbG_15rm9",
        "colab": {
          "base_uri": "https://localhost:8080/"
        },
        "outputId": "93b7b432-a74c-4e2a-c373-a3db23bb0b1f"
      },
      "execution_count": null,
      "outputs": [
        {
          "output_type": "stream",
          "name": "stdout",
          "text": [
            "24 fichiers pour tired\n",
            "8 fichiers pour burping\n",
            "383 fichiers pour hungry\n",
            "16 fichiers pour belly_pain\n",
            "27 fichiers pour discomfort\n",
            "Données : (458, 120, 100), Labels : (458,)\n"
          ]
        },
        {
          "output_type": "stream",
          "name": "stderr",
          "text": [
            "/usr/local/lib/python3.11/dist-packages/keras/src/layers/core/dense.py:87: UserWarning: Do not pass an `input_shape`/`input_dim` argument to a layer. When using Sequential models, prefer using an `Input(shape)` object as the first layer in the model instead.\n",
            "  super().__init__(activity_regularizer=activity_regularizer, **kwargs)\n"
          ]
        },
        {
          "output_type": "stream",
          "name": "stdout",
          "text": [
            "Epoch 1/30\n",
            "\u001b[1m12/12\u001b[0m \u001b[32m━━━━━━━━━━━━━━━━━━━━\u001b[0m\u001b[37m\u001b[0m \u001b[1m4s\u001b[0m 188ms/step - accuracy: 0.3521 - loss: 1.4714 - val_accuracy: 0.7311 - val_loss: 0.9552\n",
            "Epoch 2/30\n",
            "\u001b[1m12/12\u001b[0m \u001b[32m━━━━━━━━━━━━━━━━━━━━\u001b[0m\u001b[37m\u001b[0m \u001b[1m0s\u001b[0m 12ms/step - accuracy: 0.6439 - loss: 0.9354 - val_accuracy: 0.7624 - val_loss: 0.6390\n",
            "Epoch 3/30\n",
            "\u001b[1m12/12\u001b[0m \u001b[32m━━━━━━━━━━━━━━━━━━━━\u001b[0m\u001b[37m\u001b[0m \u001b[1m0s\u001b[0m 12ms/step - accuracy: 0.7845 - loss: 0.5978 - val_accuracy: 0.8903 - val_loss: 0.3582\n",
            "Epoch 4/30\n",
            "\u001b[1m12/12\u001b[0m \u001b[32m━━━━━━━━━━━━━━━━━━━━\u001b[0m\u001b[37m\u001b[0m \u001b[1m0s\u001b[0m 12ms/step - accuracy: 0.8926 - loss: 0.3484 - val_accuracy: 0.9608 - val_loss: 0.2152\n",
            "Epoch 5/30\n",
            "\u001b[1m12/12\u001b[0m \u001b[32m━━━━━━━━━━━━━━━━━━━━\u001b[0m\u001b[37m\u001b[0m \u001b[1m0s\u001b[0m 12ms/step - accuracy: 0.9403 - loss: 0.2083 - val_accuracy: 0.9634 - val_loss: 0.1540\n",
            "Epoch 6/30\n",
            "\u001b[1m12/12\u001b[0m \u001b[32m━━━━━━━━━━━━━━━━━━━━\u001b[0m\u001b[37m\u001b[0m \u001b[1m0s\u001b[0m 12ms/step - accuracy: 0.9500 - loss: 0.1689 - val_accuracy: 0.9765 - val_loss: 0.1038\n",
            "Epoch 7/30\n",
            "\u001b[1m12/12\u001b[0m \u001b[32m━━━━━━━━━━━━━━━━━━━━\u001b[0m\u001b[37m\u001b[0m \u001b[1m0s\u001b[0m 12ms/step - accuracy: 0.9720 - loss: 0.1185 - val_accuracy: 0.9765 - val_loss: 0.0824\n",
            "Epoch 8/30\n",
            "\u001b[1m12/12\u001b[0m \u001b[32m━━━━━━━━━━━━━━━━━━━━\u001b[0m\u001b[37m\u001b[0m \u001b[1m0s\u001b[0m 15ms/step - accuracy: 0.9939 - loss: 0.0624 - val_accuracy: 0.9843 - val_loss: 0.0606\n",
            "Epoch 9/30\n",
            "\u001b[1m12/12\u001b[0m \u001b[32m━━━━━━━━━━━━━━━━━━━━\u001b[0m\u001b[37m\u001b[0m \u001b[1m0s\u001b[0m 15ms/step - accuracy: 0.9984 - loss: 0.0352 - val_accuracy: 0.9896 - val_loss: 0.0505\n",
            "Epoch 10/30\n",
            "\u001b[1m12/12\u001b[0m \u001b[32m━━━━━━━━━━━━━━━━━━━━\u001b[0m\u001b[37m\u001b[0m \u001b[1m0s\u001b[0m 12ms/step - accuracy: 0.9989 - loss: 0.0322 - val_accuracy: 0.9869 - val_loss: 0.0586\n",
            "Epoch 11/30\n",
            "\u001b[1m12/12\u001b[0m \u001b[32m━━━━━━━━━━━━━━━━━━━━\u001b[0m\u001b[37m\u001b[0m \u001b[1m0s\u001b[0m 17ms/step - accuracy: 0.9985 - loss: 0.0239 - val_accuracy: 0.9896 - val_loss: 0.0494\n",
            "Epoch 12/30\n",
            "\u001b[1m12/12\u001b[0m \u001b[32m━━━━━━━━━━━━━━━━━━━━\u001b[0m\u001b[37m\u001b[0m \u001b[1m0s\u001b[0m 17ms/step - accuracy: 0.9947 - loss: 0.0243 - val_accuracy: 0.9896 - val_loss: 0.0512\n",
            "Epoch 13/30\n",
            "\u001b[1m12/12\u001b[0m \u001b[32m━━━━━━━━━━━━━━━━━━━━\u001b[0m\u001b[37m\u001b[0m \u001b[1m0s\u001b[0m 14ms/step - accuracy: 0.9988 - loss: 0.0156 - val_accuracy: 0.9843 - val_loss: 0.0626\n",
            "Epoch 14/30\n",
            "\u001b[1m12/12\u001b[0m \u001b[32m━━━━━━━━━━━━━━━━━━━━\u001b[0m\u001b[37m\u001b[0m \u001b[1m0s\u001b[0m 18ms/step - accuracy: 1.0000 - loss: 0.0117 - val_accuracy: 0.9687 - val_loss: 0.0900\n",
            "Epoch 15/30\n",
            "\u001b[1m12/12\u001b[0m \u001b[32m━━━━━━━━━━━━━━━━━━━━\u001b[0m\u001b[37m\u001b[0m \u001b[1m0s\u001b[0m 18ms/step - accuracy: 0.9980 - loss: 0.0156 - val_accuracy: 0.9948 - val_loss: 0.0436\n",
            "Epoch 16/30\n",
            "\u001b[1m12/12\u001b[0m \u001b[32m━━━━━━━━━━━━━━━━━━━━\u001b[0m\u001b[37m\u001b[0m \u001b[1m0s\u001b[0m 17ms/step - accuracy: 1.0000 - loss: 0.0091 - val_accuracy: 0.9948 - val_loss: 0.0368\n",
            "Epoch 17/30\n",
            "\u001b[1m12/12\u001b[0m \u001b[32m━━━━━━━━━━━━━━━━━━━━\u001b[0m\u001b[37m\u001b[0m \u001b[1m0s\u001b[0m 17ms/step - accuracy: 0.9996 - loss: 0.0097 - val_accuracy: 0.9948 - val_loss: 0.0383\n",
            "Epoch 18/30\n",
            "\u001b[1m12/12\u001b[0m \u001b[32m━━━━━━━━━━━━━━━━━━━━\u001b[0m\u001b[37m\u001b[0m \u001b[1m0s\u001b[0m 17ms/step - accuracy: 0.9993 - loss: 0.0093 - val_accuracy: 0.9922 - val_loss: 0.0508\n",
            "Epoch 19/30\n",
            "\u001b[1m12/12\u001b[0m \u001b[32m━━━━━━━━━━━━━━━━━━━━\u001b[0m\u001b[37m\u001b[0m \u001b[1m0s\u001b[0m 18ms/step - accuracy: 0.9989 - loss: 0.0068 - val_accuracy: 0.9948 - val_loss: 0.0438\n",
            "Epoch 20/30\n",
            "\u001b[1m12/12\u001b[0m \u001b[32m━━━━━━━━━━━━━━━━━━━━\u001b[0m\u001b[37m\u001b[0m \u001b[1m0s\u001b[0m 17ms/step - accuracy: 0.9981 - loss: 0.0111 - val_accuracy: 0.9713 - val_loss: 0.0749\n",
            "Epoch 21/30\n",
            "\u001b[1m12/12\u001b[0m \u001b[32m━━━━━━━━━━━━━━━━━━━━\u001b[0m\u001b[37m\u001b[0m \u001b[1m0s\u001b[0m 15ms/step - accuracy: 0.9968 - loss: 0.0143 - val_accuracy: 0.9791 - val_loss: 0.0579\n",
            "Epoch 22/30\n",
            "\u001b[1m12/12\u001b[0m \u001b[32m━━━━━━━━━━━━━━━━━━━━\u001b[0m\u001b[37m\u001b[0m \u001b[1m0s\u001b[0m 12ms/step - accuracy: 1.0000 - loss: 0.0056 - val_accuracy: 0.9791 - val_loss: 0.0559\n",
            "Epoch 23/30\n",
            "\u001b[1m12/12\u001b[0m \u001b[32m━━━━━━━━━━━━━━━━━━━━\u001b[0m\u001b[37m\u001b[0m \u001b[1m0s\u001b[0m 13ms/step - accuracy: 1.0000 - loss: 0.0049 - val_accuracy: 0.9922 - val_loss: 0.0471\n",
            "Epoch 24/30\n",
            "\u001b[1m12/12\u001b[0m \u001b[32m━━━━━━━━━━━━━━━━━━━━\u001b[0m\u001b[37m\u001b[0m \u001b[1m0s\u001b[0m 15ms/step - accuracy: 1.0000 - loss: 0.0030 - val_accuracy: 0.9948 - val_loss: 0.0305\n",
            "Epoch 25/30\n",
            "\u001b[1m12/12\u001b[0m \u001b[32m━━━━━━━━━━━━━━━━━━━━\u001b[0m\u001b[37m\u001b[0m \u001b[1m0s\u001b[0m 15ms/step - accuracy: 1.0000 - loss: 0.0024 - val_accuracy: 0.9922 - val_loss: 0.0444\n",
            "Epoch 26/30\n",
            "\u001b[1m12/12\u001b[0m \u001b[32m━━━━━━━━━━━━━━━━━━━━\u001b[0m\u001b[37m\u001b[0m \u001b[1m0s\u001b[0m 12ms/step - accuracy: 1.0000 - loss: 0.0018 - val_accuracy: 0.9922 - val_loss: 0.0421\n",
            "Epoch 27/30\n",
            "\u001b[1m12/12\u001b[0m \u001b[32m━━━━━━━━━━━━━━━━━━━━\u001b[0m\u001b[37m\u001b[0m \u001b[1m0s\u001b[0m 15ms/step - accuracy: 1.0000 - loss: 0.0019 - val_accuracy: 0.9948 - val_loss: 0.0401\n",
            "Epoch 28/30\n",
            "\u001b[1m12/12\u001b[0m \u001b[32m━━━━━━━━━━━━━━━━━━━━\u001b[0m\u001b[37m\u001b[0m \u001b[1m0s\u001b[0m 13ms/step - accuracy: 1.0000 - loss: 0.0023 - val_accuracy: 0.9922 - val_loss: 0.0510\n",
            "Epoch 29/30\n",
            "\u001b[1m12/12\u001b[0m \u001b[32m━━━━━━━━━━━━━━━━━━━━\u001b[0m\u001b[37m\u001b[0m \u001b[1m0s\u001b[0m 15ms/step - accuracy: 1.0000 - loss: 0.0021 - val_accuracy: 0.9948 - val_loss: 0.0361\n",
            "Epoch 30/30\n",
            "\u001b[1m12/12\u001b[0m \u001b[32m━━━━━━━━━━━━━━━━━━━━\u001b[0m\u001b[37m\u001b[0m \u001b[1m0s\u001b[0m 15ms/step - accuracy: 1.0000 - loss: 0.0014 - val_accuracy: 0.9843 - val_loss: 0.0554\n"
          ]
        }
      ]
    },
    {
      "cell_type": "markdown",
      "source": [
        "**Modele 1 : MLP**"
      ],
      "metadata": {
        "id": "aUvEGtXdEQH2"
      }
    },
    {
      "cell_type": "code",
      "source": [
        "# ---- CNN ----\n",
        "cnn_model = Sequential([\n",
        "    Reshape((X_train.shape[1], 1), input_shape=(X_train.shape[1],)),\n",
        "    Conv1D(64, 3, activation='relu'),\n",
        "    MaxPooling1D(2),\n",
        "    Dropout(0.2),\n",
        "    Conv1D(128, 3, activation='relu'),\n",
        "    MaxPooling1D(2),\n",
        "    Dropout(0.2),\n",
        "    Flatten(),\n",
        "    Dense(128, activation='relu'),\n",
        "    Dropout(0.2),\n",
        "    Dense(y_train.shape[1], activation='softmax')\n",
        "])\n",
        "\n",
        "cnn_model.compile(optimizer='adam', loss='categorical_crossentropy', metrics=['accuracy'])\n",
        "cnn_history = cnn_model.fit(X_train_cnn, y_train, epochs=30, batch_size=128, validation_data=(X_test_cnn, y_test))\n"
      ],
      "metadata": {
        "id": "edYCTm9C_6H_",
        "colab": {
          "base_uri": "https://localhost:8080/"
        },
        "outputId": "b85318d5-0a58-4922-c0e4-da0c93a7147d"
      },
      "execution_count": null,
      "outputs": [
        {
          "output_type": "stream",
          "name": "stderr",
          "text": [
            "/usr/local/lib/python3.11/dist-packages/keras/src/layers/reshaping/reshape.py:39: UserWarning: Do not pass an `input_shape`/`input_dim` argument to a layer. When using Sequential models, prefer using an `Input(shape)` object as the first layer in the model instead.\n",
            "  super().__init__(**kwargs)\n"
          ]
        },
        {
          "output_type": "stream",
          "name": "stdout",
          "text": [
            "Epoch 1/30\n",
            "\u001b[1m12/12\u001b[0m \u001b[32m━━━━━━━━━━━━━━━━━━━━\u001b[0m\u001b[37m\u001b[0m \u001b[1m11s\u001b[0m 540ms/step - accuracy: 0.3037 - loss: 1.6030 - val_accuracy: 0.5196 - val_loss: 1.3019\n",
            "Epoch 2/30\n",
            "\u001b[1m12/12\u001b[0m \u001b[32m━━━━━━━━━━━━━━━━━━━━\u001b[0m\u001b[37m\u001b[0m \u001b[1m3s\u001b[0m 258ms/step - accuracy: 0.5677 - loss: 1.1361 - val_accuracy: 0.7911 - val_loss: 0.7011\n",
            "Epoch 3/30\n",
            "\u001b[1m12/12\u001b[0m \u001b[32m━━━━━━━━━━━━━━━━━━━━\u001b[0m\u001b[37m\u001b[0m \u001b[1m3s\u001b[0m 264ms/step - accuracy: 0.7729 - loss: 0.6585 - val_accuracy: 0.9008 - val_loss: 0.3693\n",
            "Epoch 4/30\n",
            "\u001b[1m12/12\u001b[0m \u001b[32m━━━━━━━━━━━━━━━━━━━━\u001b[0m\u001b[37m\u001b[0m \u001b[1m3s\u001b[0m 257ms/step - accuracy: 0.9127 - loss: 0.3052 - val_accuracy: 0.9399 - val_loss: 0.1981\n",
            "Epoch 5/30\n",
            "\u001b[1m12/12\u001b[0m \u001b[32m━━━━━━━━━━━━━━━━━━━━\u001b[0m\u001b[37m\u001b[0m \u001b[1m5s\u001b[0m 257ms/step - accuracy: 0.9565 - loss: 0.1553 - val_accuracy: 0.9869 - val_loss: 0.0956\n",
            "Epoch 6/30\n",
            "\u001b[1m12/12\u001b[0m \u001b[32m━━━━━━━━━━━━━━━━━━━━\u001b[0m\u001b[37m\u001b[0m \u001b[1m5s\u001b[0m 258ms/step - accuracy: 0.9792 - loss: 0.0972 - val_accuracy: 0.9791 - val_loss: 0.0806\n",
            "Epoch 7/30\n",
            "\u001b[1m12/12\u001b[0m \u001b[32m━━━━━━━━━━━━━━━━━━━━\u001b[0m\u001b[37m\u001b[0m \u001b[1m5s\u001b[0m 264ms/step - accuracy: 0.9843 - loss: 0.0552 - val_accuracy: 0.9869 - val_loss: 0.0523\n",
            "Epoch 8/30\n",
            "\u001b[1m12/12\u001b[0m \u001b[32m━━━━━━━━━━━━━━━━━━━━\u001b[0m\u001b[37m\u001b[0m \u001b[1m5s\u001b[0m 263ms/step - accuracy: 0.9960 - loss: 0.0295 - val_accuracy: 0.9843 - val_loss: 0.0555\n",
            "Epoch 9/30\n",
            "\u001b[1m12/12\u001b[0m \u001b[32m━━━━━━━━━━━━━━━━━━━━\u001b[0m\u001b[37m\u001b[0m \u001b[1m3s\u001b[0m 264ms/step - accuracy: 0.9977 - loss: 0.0141 - val_accuracy: 0.9896 - val_loss: 0.0314\n",
            "Epoch 10/30\n",
            "\u001b[1m12/12\u001b[0m \u001b[32m━━━━━━━━━━━━━━━━━━━━\u001b[0m\u001b[37m\u001b[0m \u001b[1m3s\u001b[0m 265ms/step - accuracy: 0.9960 - loss: 0.0165 - val_accuracy: 0.9817 - val_loss: 0.0673\n",
            "Epoch 11/30\n",
            "\u001b[1m12/12\u001b[0m \u001b[32m━━━━━━━━━━━━━━━━━━━━\u001b[0m\u001b[37m\u001b[0m \u001b[1m3s\u001b[0m 264ms/step - accuracy: 0.9970 - loss: 0.0199 - val_accuracy: 0.9896 - val_loss: 0.0345\n",
            "Epoch 12/30\n",
            "\u001b[1m12/12\u001b[0m \u001b[32m━━━━━━━━━━━━━━━━━━━━\u001b[0m\u001b[37m\u001b[0m \u001b[1m3s\u001b[0m 269ms/step - accuracy: 1.0000 - loss: 0.0091 - val_accuracy: 0.9896 - val_loss: 0.0165\n",
            "Epoch 13/30\n",
            "\u001b[1m12/12\u001b[0m \u001b[32m━━━━━━━━━━━━━━━━━━━━\u001b[0m\u001b[37m\u001b[0m \u001b[1m5s\u001b[0m 260ms/step - accuracy: 1.0000 - loss: 0.0058 - val_accuracy: 0.9896 - val_loss: 0.0187\n",
            "Epoch 14/30\n",
            "\u001b[1m12/12\u001b[0m \u001b[32m━━━━━━━━━━━━━━━━━━━━\u001b[0m\u001b[37m\u001b[0m \u001b[1m3s\u001b[0m 260ms/step - accuracy: 1.0000 - loss: 0.0066 - val_accuracy: 0.9896 - val_loss: 0.0247\n",
            "Epoch 15/30\n",
            "\u001b[1m12/12\u001b[0m \u001b[32m━━━━━━━━━━━━━━━━━━━━\u001b[0m\u001b[37m\u001b[0m \u001b[1m3s\u001b[0m 266ms/step - accuracy: 0.9987 - loss: 0.0081 - val_accuracy: 0.9922 - val_loss: 0.0132\n",
            "Epoch 16/30\n",
            "\u001b[1m12/12\u001b[0m \u001b[32m━━━━━━━━━━━━━━━━━━━━\u001b[0m\u001b[37m\u001b[0m \u001b[1m5s\u001b[0m 260ms/step - accuracy: 0.9995 - loss: 0.0043 - val_accuracy: 0.9896 - val_loss: 0.0209\n",
            "Epoch 17/30\n",
            "\u001b[1m12/12\u001b[0m \u001b[32m━━━━━━━━━━━━━━━━━━━━\u001b[0m\u001b[37m\u001b[0m \u001b[1m5s\u001b[0m 261ms/step - accuracy: 1.0000 - loss: 0.0021 - val_accuracy: 0.9896 - val_loss: 0.0158\n",
            "Epoch 18/30\n",
            "\u001b[1m12/12\u001b[0m \u001b[32m━━━━━━━━━━━━━━━━━━━━\u001b[0m\u001b[37m\u001b[0m \u001b[1m3s\u001b[0m 268ms/step - accuracy: 1.0000 - loss: 0.0024 - val_accuracy: 0.9896 - val_loss: 0.0255\n",
            "Epoch 19/30\n",
            "\u001b[1m12/12\u001b[0m \u001b[32m━━━━━━━━━━━━━━━━━━━━\u001b[0m\u001b[37m\u001b[0m \u001b[1m5s\u001b[0m 265ms/step - accuracy: 1.0000 - loss: 0.0019 - val_accuracy: 0.9869 - val_loss: 0.0384\n",
            "Epoch 20/30\n",
            "\u001b[1m12/12\u001b[0m \u001b[32m━━━━━━━━━━━━━━━━━━━━\u001b[0m\u001b[37m\u001b[0m \u001b[1m3s\u001b[0m 260ms/step - accuracy: 1.0000 - loss: 0.0026 - val_accuracy: 0.9922 - val_loss: 0.0146\n",
            "Epoch 21/30\n",
            "\u001b[1m12/12\u001b[0m \u001b[32m━━━━━━━━━━━━━━━━━━━━\u001b[0m\u001b[37m\u001b[0m \u001b[1m5s\u001b[0m 269ms/step - accuracy: 1.0000 - loss: 0.0015 - val_accuracy: 0.9896 - val_loss: 0.0253\n",
            "Epoch 22/30\n",
            "\u001b[1m12/12\u001b[0m \u001b[32m━━━━━━━━━━━━━━━━━━━━\u001b[0m\u001b[37m\u001b[0m \u001b[1m3s\u001b[0m 261ms/step - accuracy: 1.0000 - loss: 0.0016 - val_accuracy: 0.9896 - val_loss: 0.0317\n",
            "Epoch 23/30\n",
            "\u001b[1m12/12\u001b[0m \u001b[32m━━━━━━━━━━━━━━━━━━━━\u001b[0m\u001b[37m\u001b[0m \u001b[1m5s\u001b[0m 260ms/step - accuracy: 1.0000 - loss: 0.0017 - val_accuracy: 0.9896 - val_loss: 0.0248\n",
            "Epoch 24/30\n",
            "\u001b[1m12/12\u001b[0m \u001b[32m━━━━━━━━━━━━━━━━━━━━\u001b[0m\u001b[37m\u001b[0m \u001b[1m5s\u001b[0m 267ms/step - accuracy: 1.0000 - loss: 0.0014 - val_accuracy: 0.9896 - val_loss: 0.0224\n",
            "Epoch 25/30\n",
            "\u001b[1m12/12\u001b[0m \u001b[32m━━━━━━━━━━━━━━━━━━━━\u001b[0m\u001b[37m\u001b[0m \u001b[1m3s\u001b[0m 265ms/step - accuracy: 1.0000 - loss: 0.0011 - val_accuracy: 0.9896 - val_loss: 0.0258\n",
            "Epoch 26/30\n",
            "\u001b[1m12/12\u001b[0m \u001b[32m━━━━━━━━━━━━━━━━━━━━\u001b[0m\u001b[37m\u001b[0m \u001b[1m5s\u001b[0m 262ms/step - accuracy: 1.0000 - loss: 0.0013 - val_accuracy: 0.9974 - val_loss: 0.0096\n",
            "Epoch 27/30\n",
            "\u001b[1m12/12\u001b[0m \u001b[32m━━━━━━━━━━━━━━━━━━━━\u001b[0m\u001b[37m\u001b[0m \u001b[1m5s\u001b[0m 267ms/step - accuracy: 1.0000 - loss: 0.0015 - val_accuracy: 0.9869 - val_loss: 0.0383\n",
            "Epoch 28/30\n",
            "\u001b[1m12/12\u001b[0m \u001b[32m━━━━━━━━━━━━━━━━━━━━\u001b[0m\u001b[37m\u001b[0m \u001b[1m3s\u001b[0m 265ms/step - accuracy: 1.0000 - loss: 0.0021 - val_accuracy: 0.9843 - val_loss: 0.0630\n",
            "Epoch 29/30\n",
            "\u001b[1m12/12\u001b[0m \u001b[32m━━━━━━━━━━━━━━━━━━━━\u001b[0m\u001b[37m\u001b[0m \u001b[1m5s\u001b[0m 266ms/step - accuracy: 1.0000 - loss: 9.2466e-04 - val_accuracy: 0.9948 - val_loss: 0.0133\n",
            "Epoch 30/30\n",
            "\u001b[1m12/12\u001b[0m \u001b[32m━━━━━━━━━━━━━━━━━━━━\u001b[0m\u001b[37m\u001b[0m \u001b[1m3s\u001b[0m 261ms/step - accuracy: 0.9992 - loss: 0.0021 - val_accuracy: 0.9922 - val_loss: 0.0181\n"
          ]
        }
      ]
    },
    {
      "cell_type": "markdown",
      "source": [
        "**Modele 2 : CNN**"
      ],
      "metadata": {
        "id": "1yh02466EaLJ"
      }
    },
    {
      "cell_type": "code",
      "source": [
        "#Modèle 2 : Convolutional Neural Network (CNN)\n",
        "cnn_model = Sequential([\n",
        "    tf.keras.layers.Reshape((X_train.shape[1], 1), input_shape=(X_train.shape[1],)),\n",
        "    Conv1D(64, kernel_size=3, activation='relu'),\n",
        "    MaxPooling1D(pool_size=2),\n",
        "    Dropout(0.2),\n",
        "    Conv1D(128, kernel_size=3, activation='relu'),\n",
        "    MaxPooling1D(pool_size=2),\n",
        "    Dropout(0.2),\n",
        "    Flatten(),\n",
        "    Dense(128, activation='relu'),\n",
        "    Dropout(0.2),\n",
        "    Dense(y_train.shape[1], activation='softmax')\n",
        "])\n",
        "\n",
        "cnn_model.compile(optimizer='adam', loss='categorical_crossentropy', metrics=['accuracy'])\n",
        "\n",
        "cnn_history = cnn_model.fit(X_train, y_train, epochs=30, batch_size=128, validation_data=(X_test, y_test))\n"
      ],
      "metadata": {
        "id": "aDimIsGnAM1F",
        "colab": {
          "base_uri": "https://localhost:8080/"
        },
        "outputId": "1f85e27d-0b02-409c-d6e7-26279e7570b5"
      },
      "execution_count": null,
      "outputs": [
        {
          "output_type": "stream",
          "name": "stderr",
          "text": [
            "/usr/local/lib/python3.11/dist-packages/keras/src/layers/reshaping/reshape.py:39: UserWarning: Do not pass an `input_shape`/`input_dim` argument to a layer. When using Sequential models, prefer using an `Input(shape)` object as the first layer in the model instead.\n",
            "  super().__init__(**kwargs)\n"
          ]
        },
        {
          "output_type": "stream",
          "name": "stdout",
          "text": [
            "Epoch 1/30\n",
            "\u001b[1m12/12\u001b[0m \u001b[32m━━━━━━━━━━━━━━━━━━━━\u001b[0m\u001b[37m\u001b[0m \u001b[1m27s\u001b[0m 1s/step - accuracy: 0.3384 - loss: 2.2572 - val_accuracy: 0.6580 - val_loss: 1.1057\n",
            "Epoch 2/30\n",
            "\u001b[1m12/12\u001b[0m \u001b[32m━━━━━━━━━━━━━━━━━━━━\u001b[0m\u001b[37m\u001b[0m \u001b[1m20s\u001b[0m 258ms/step - accuracy: 0.7002 - loss: 0.8607 - val_accuracy: 0.8799 - val_loss: 0.4057\n",
            "Epoch 3/30\n",
            "\u001b[1m12/12\u001b[0m \u001b[32m━━━━━━━━━━━━━━━━━━━━\u001b[0m\u001b[37m\u001b[0m \u001b[1m5s\u001b[0m 262ms/step - accuracy: 0.9158 - loss: 0.2833 - val_accuracy: 0.9817 - val_loss: 0.1128\n",
            "Epoch 4/30\n",
            "\u001b[1m12/12\u001b[0m \u001b[32m━━━━━━━━━━━━━━━━━━━━\u001b[0m\u001b[37m\u001b[0m \u001b[1m5s\u001b[0m 266ms/step - accuracy: 0.9776 - loss: 0.0941 - val_accuracy: 0.9896 - val_loss: 0.0374\n",
            "Epoch 5/30\n",
            "\u001b[1m12/12\u001b[0m \u001b[32m━━━━━━━━━━━━━━━━━━━━\u001b[0m\u001b[37m\u001b[0m \u001b[1m3s\u001b[0m 264ms/step - accuracy: 0.9951 - loss: 0.0272 - val_accuracy: 0.9948 - val_loss: 0.0276\n",
            "Epoch 6/30\n",
            "\u001b[1m12/12\u001b[0m \u001b[32m━━━━━━━━━━━━━━━━━━━━\u001b[0m\u001b[37m\u001b[0m \u001b[1m3s\u001b[0m 257ms/step - accuracy: 0.9988 - loss: 0.0132 - val_accuracy: 0.9948 - val_loss: 0.0293\n",
            "Epoch 7/30\n",
            "\u001b[1m12/12\u001b[0m \u001b[32m━━━━━━━━━━━━━━━━━━━━\u001b[0m\u001b[37m\u001b[0m \u001b[1m5s\u001b[0m 258ms/step - accuracy: 1.0000 - loss: 0.0074 - val_accuracy: 0.9922 - val_loss: 0.0289\n",
            "Epoch 8/30\n",
            "\u001b[1m12/12\u001b[0m \u001b[32m━━━━━━━━━━━━━━━━━━━━\u001b[0m\u001b[37m\u001b[0m \u001b[1m5s\u001b[0m 260ms/step - accuracy: 0.9998 - loss: 0.0064 - val_accuracy: 0.9948 - val_loss: 0.0363\n",
            "Epoch 9/30\n",
            "\u001b[1m12/12\u001b[0m \u001b[32m━━━━━━━━━━━━━━━━━━━━\u001b[0m\u001b[37m\u001b[0m \u001b[1m5s\u001b[0m 263ms/step - accuracy: 1.0000 - loss: 0.0038 - val_accuracy: 0.9948 - val_loss: 0.0261\n",
            "Epoch 10/30\n",
            "\u001b[1m12/12\u001b[0m \u001b[32m━━━━━━━━━━━━━━━━━━━━\u001b[0m\u001b[37m\u001b[0m \u001b[1m5s\u001b[0m 265ms/step - accuracy: 0.9987 - loss: 0.0039 - val_accuracy: 0.9948 - val_loss: 0.0274\n",
            "Epoch 11/30\n",
            "\u001b[1m12/12\u001b[0m \u001b[32m━━━━━━━━━━━━━━━━━━━━\u001b[0m\u001b[37m\u001b[0m \u001b[1m5s\u001b[0m 264ms/step - accuracy: 0.9999 - loss: 0.0041 - val_accuracy: 0.9922 - val_loss: 0.0336\n",
            "Epoch 12/30\n",
            "\u001b[1m12/12\u001b[0m \u001b[32m━━━━━━━━━━━━━━━━━━━━\u001b[0m\u001b[37m\u001b[0m \u001b[1m5s\u001b[0m 265ms/step - accuracy: 0.9990 - loss: 0.0037 - val_accuracy: 0.9922 - val_loss: 0.0212\n",
            "Epoch 13/30\n",
            "\u001b[1m12/12\u001b[0m \u001b[32m━━━━━━━━━━━━━━━━━━━━\u001b[0m\u001b[37m\u001b[0m \u001b[1m3s\u001b[0m 261ms/step - accuracy: 1.0000 - loss: 0.0021 - val_accuracy: 0.9869 - val_loss: 0.0421\n",
            "Epoch 14/30\n",
            "\u001b[1m12/12\u001b[0m \u001b[32m━━━━━━━━━━━━━━━━━━━━\u001b[0m\u001b[37m\u001b[0m \u001b[1m3s\u001b[0m 259ms/step - accuracy: 1.0000 - loss: 0.0019 - val_accuracy: 0.9948 - val_loss: 0.0271\n",
            "Epoch 15/30\n",
            "\u001b[1m12/12\u001b[0m \u001b[32m━━━━━━━━━━━━━━━━━━━━\u001b[0m\u001b[37m\u001b[0m \u001b[1m5s\u001b[0m 259ms/step - accuracy: 1.0000 - loss: 0.0014 - val_accuracy: 0.9922 - val_loss: 0.0292\n",
            "Epoch 16/30\n",
            "\u001b[1m12/12\u001b[0m \u001b[32m━━━━━━━━━━━━━━━━━━━━\u001b[0m\u001b[37m\u001b[0m \u001b[1m5s\u001b[0m 261ms/step - accuracy: 1.0000 - loss: 0.0011 - val_accuracy: 0.9948 - val_loss: 0.0227\n",
            "Epoch 17/30\n",
            "\u001b[1m12/12\u001b[0m \u001b[32m━━━━━━━━━━━━━━━━━━━━\u001b[0m\u001b[37m\u001b[0m \u001b[1m5s\u001b[0m 266ms/step - accuracy: 1.0000 - loss: 0.0011 - val_accuracy: 0.9948 - val_loss: 0.0179\n",
            "Epoch 18/30\n",
            "\u001b[1m12/12\u001b[0m \u001b[32m━━━━━━━━━━━━━━━━━━━━\u001b[0m\u001b[37m\u001b[0m \u001b[1m5s\u001b[0m 268ms/step - accuracy: 0.9974 - loss: 0.0054 - val_accuracy: 0.9948 - val_loss: 0.0152\n",
            "Epoch 19/30\n",
            "\u001b[1m12/12\u001b[0m \u001b[32m━━━━━━━━━━━━━━━━━━━━\u001b[0m\u001b[37m\u001b[0m \u001b[1m3s\u001b[0m 260ms/step - accuracy: 0.9997 - loss: 0.0027 - val_accuracy: 0.9922 - val_loss: 0.0279\n",
            "Epoch 20/30\n",
            "\u001b[1m12/12\u001b[0m \u001b[32m━━━━━━━━━━━━━━━━━━━━\u001b[0m\u001b[37m\u001b[0m \u001b[1m5s\u001b[0m 266ms/step - accuracy: 1.0000 - loss: 0.0037 - val_accuracy: 0.9896 - val_loss: 0.0287\n",
            "Epoch 21/30\n",
            "\u001b[1m12/12\u001b[0m \u001b[32m━━━━━━━━━━━━━━━━━━━━\u001b[0m\u001b[37m\u001b[0m \u001b[1m5s\u001b[0m 262ms/step - accuracy: 1.0000 - loss: 0.0028 - val_accuracy: 0.9974 - val_loss: 0.0183\n",
            "Epoch 22/30\n",
            "\u001b[1m12/12\u001b[0m \u001b[32m━━━━━━━━━━━━━━━━━━━━\u001b[0m\u001b[37m\u001b[0m \u001b[1m3s\u001b[0m 260ms/step - accuracy: 0.9996 - loss: 0.0024 - val_accuracy: 0.9974 - val_loss: 0.0116\n",
            "Epoch 23/30\n",
            "\u001b[1m12/12\u001b[0m \u001b[32m━━━━━━━━━━━━━━━━━━━━\u001b[0m\u001b[37m\u001b[0m \u001b[1m3s\u001b[0m 260ms/step - accuracy: 1.0000 - loss: 0.0019 - val_accuracy: 0.9843 - val_loss: 0.0499\n",
            "Epoch 24/30\n",
            "\u001b[1m12/12\u001b[0m \u001b[32m━━━━━━━━━━━━━━━━━━━━\u001b[0m\u001b[37m\u001b[0m \u001b[1m5s\u001b[0m 263ms/step - accuracy: 0.9993 - loss: 0.0029 - val_accuracy: 0.9974 - val_loss: 0.0241\n",
            "Epoch 25/30\n",
            "\u001b[1m12/12\u001b[0m \u001b[32m━━━━━━━━━━━━━━━━━━━━\u001b[0m\u001b[37m\u001b[0m \u001b[1m5s\u001b[0m 266ms/step - accuracy: 0.9998 - loss: 0.0022 - val_accuracy: 0.9948 - val_loss: 0.0331\n",
            "Epoch 26/30\n",
            "\u001b[1m12/12\u001b[0m \u001b[32m━━━━━━━━━━━━━━━━━━━━\u001b[0m\u001b[37m\u001b[0m \u001b[1m5s\u001b[0m 259ms/step - accuracy: 1.0000 - loss: 6.8906e-04 - val_accuracy: 0.9948 - val_loss: 0.0290\n",
            "Epoch 27/30\n",
            "\u001b[1m12/12\u001b[0m \u001b[32m━━━━━━━━━━━━━━━━━━━━\u001b[0m\u001b[37m\u001b[0m \u001b[1m5s\u001b[0m 265ms/step - accuracy: 1.0000 - loss: 0.0012 - val_accuracy: 0.9922 - val_loss: 0.0367\n",
            "Epoch 28/30\n",
            "\u001b[1m12/12\u001b[0m \u001b[32m━━━━━━━━━━━━━━━━━━━━\u001b[0m\u001b[37m\u001b[0m \u001b[1m5s\u001b[0m 264ms/step - accuracy: 1.0000 - loss: 6.5266e-04 - val_accuracy: 0.9974 - val_loss: 0.0282\n",
            "Epoch 29/30\n",
            "\u001b[1m12/12\u001b[0m \u001b[32m━━━━━━━━━━━━━━━━━━━━\u001b[0m\u001b[37m\u001b[0m \u001b[1m5s\u001b[0m 268ms/step - accuracy: 1.0000 - loss: 2.9875e-04 - val_accuracy: 0.9974 - val_loss: 0.0271\n",
            "Epoch 30/30\n",
            "\u001b[1m12/12\u001b[0m \u001b[32m━━━━━━━━━━━━━━━━━━━━\u001b[0m\u001b[37m\u001b[0m \u001b[1m3s\u001b[0m 259ms/step - accuracy: 0.9990 - loss: 0.0029 - val_accuracy: 0.9974 - val_loss: 0.0152\n"
          ]
        }
      ]
    },
    {
      "cell_type": "markdown",
      "source": [
        "**Modele 3 : LSTM**"
      ],
      "metadata": {
        "id": "JT7hDa_OEgqO"
      }
    },
    {
      "cell_type": "code",
      "source": [
        "\n",
        "\"\"\"\n",
        "#Modèle 3 : Long Short-Term Memory (LSTM)\n",
        "lstm_model = Sequential([\n",
        "    tf.keras.layers.Reshape((X_train.shape[1], 1), input_shape=(X_train.shape[1],)),\n",
        "    LSTM(256, return_sequences=True),\n",
        "    Dropout(0.2),\n",
        "    LSTM(128),\n",
        "    Dropout(0.2),\n",
        "    Dense(64, activation='relu'),\n",
        "    Dropout(0.2),\n",
        "    Dense(y_train.shape[1], activation='softmax')\n",
        "])\n",
        "\n",
        "lstm_model.compile(optimizer='adam', loss='categorical_crossentropy', metrics=['accuracy'])\n",
        "\n",
        "lstm_history = lstm_model.fit(X_train, y_train, epochs=25, batch_size=32, validation_data=(X_test, y_test))\n",
        "\"\"\"\n"
      ],
      "metadata": {
        "id": "FOnXOaicAc2F"
      },
      "execution_count": null,
      "outputs": []
    },
    {
      "cell_type": "markdown",
      "source": [
        "**Modele 4 : CNN+LSTM**"
      ],
      "metadata": {
        "id": "9pP8tXAoEko-"
      }
    },
    {
      "cell_type": "code",
      "source": [
        "\n",
        "\"\"\"\n",
        "cnn_lstm_model = Sequential([\n",
        "    # Reshape des données pour le modèle CNN\n",
        "    tf.keras.layers.Reshape((X_train.shape[1], 1), input_shape=(X_train.shape[1],)),\n",
        "\n",
        "    # Convolution 1D\n",
        "    Conv1D(64, kernel_size=3, activation='relu', padding='same'),\n",
        "    MaxPooling1D(pool_size=2),\n",
        "    Dropout(0.2),\n",
        "\n",
        "    # Deuxième couche Convolution 1D\n",
        "    Conv1D(128, kernel_size=3, activation='relu', padding='same'),\n",
        "    MaxPooling1D(pool_size=2),\n",
        "    Dropout(0.2),\n",
        "\n",
        "    # Couche LSTM\n",
        "    LSTM(128, return_sequences=True),\n",
        "    Dropout(0.2),\n",
        "    LSTM(128),\n",
        "    Dropout(0.2),\n",
        "\n",
        "    # Couches denses\n",
        "    Dense(128, activation='relu'),\n",
        "    Dropout(0.2),\n",
        "    Dense(y_train.shape[1], activation='softmax')\n",
        "])\n",
        "\n",
        "# Compilation du modèle\n",
        "cnn_lstm_model.compile(optimizer='adam', loss='categorical_crossentropy', metrics=['accuracy'])\n",
        "\n",
        "# Entraînement du modèle\n",
        "cnn_lstm_history = cnn_lstm_model.fit(X_train, y_train, epochs=30, batch_size=32, validation_data=(X_test, y_test))\n",
        "\n",
        "\"\"\""
      ],
      "metadata": {
        "id": "-UmimB-nEspq"
      },
      "execution_count": null,
      "outputs": []
    },
    {
      "cell_type": "code",
      "source": [
        "#4. Évaluation et Comparaison\n",
        "#Courbes de performance :\n",
        "def plot_performance(history, model_name):\n",
        "    plt.figure(figsize=(12, 4))\n",
        "\n",
        "    # Précision\n",
        "    plt.subplot(1, 2, 1)\n",
        "    plt.plot(history.history['accuracy'], label='Train Accuracy')\n",
        "    plt.plot(history.history['val_accuracy'], label='Validation Accuracy')\n",
        "    plt.title(f'{model_name} Accuracy')\n",
        "    plt.xlabel('Epochs')\n",
        "    plt.ylabel('Accuracy')\n",
        "    plt.legend()\n",
        "\n",
        "    # Perte\n",
        "    plt.subplot(1, 2, 2)\n",
        "    plt.plot(history.history['loss'], label='Train Loss')\n",
        "    plt.plot(history.history['val_loss'], label='Validation Loss')\n",
        "    plt.title(f'{model_name} Loss')\n",
        "    plt.xlabel('Epochs')\n",
        "    plt.ylabel('Loss')\n",
        "    plt.legend()\n",
        "\n",
        "    plt.show()\n",
        "\n",
        "\n"
      ],
      "metadata": {
        "id": "MpdtairSAuSW"
      },
      "execution_count": null,
      "outputs": []
    },
    {
      "cell_type": "code",
      "source": [
        "plot_performance(mlp_history, 'MLP')\n",
        "plot_performance(cnn_history, 'CNN')\n",
        "#plot_performance(cnn_lstm_history, 'CNN+LSTM')\n",
        "#plot_performance(lstm_history, 'LSTM')\n"
      ],
      "metadata": {
        "id": "b7PLZ_exFDMS",
        "colab": {
          "base_uri": "https://localhost:8080/",
          "height": 803
        },
        "outputId": "978d59cc-074e-4f95-db5b-cf2a1cfe78c9"
      },
      "execution_count": null,
      "outputs": [
        {
          "output_type": "display_data",
          "data": {
            "text/plain": [
              "<Figure size 1200x400 with 2 Axes>"
            ],
            "image/png": "[encoded data removed]"
          },
          "metadata": {}
        },
        {
          "output_type": "display_data",
          "data": {
            "text/plain": [
              "<Figure size 1200x400 with 2 Axes>"
            ],
            "image/png": "[encoded data removed]"
          },
          "metadata": {}
        }
      ]
    },
    {
      "cell_type": "code",
      "source": [
        "# Évaluation des modèles\n",
        "mlp_loss, mlp_accuracy = mlp_model.evaluate(X_test, y_test, verbose=0)\n",
        "cnn_loss, cnn_accuracy = cnn_model.evaluate(X_test.reshape(X_test.shape[0], -1, 1), y_test, verbose=0)\n",
        "#lstm_loss, lstm_accuracy = lstm_model.evaluate(X_test, y_test, verbose=0)\n",
        "#cnn_lstm_loss, cnn_lstm_accuracy = cnn_lstm_model.evaluate(X_test, y_test, verbose=0)\n",
        "\n",
        "# Affichage des résultats\n",
        "print(f\"MLP Accuracy: {mlp_accuracy:.2f} - Loss: {mlp_loss:.2f}\")\n",
        "print(f\"CNN Accuracy: {cnn_accuracy:.2f} - Loss: {cnn_loss:.2f}\")\n",
        "#print(f\"LSTM Accuracy: {lstm_accuracy:.2f} - Loss: {lstm_loss:.2f}\")\n",
        "#print(f\"CNN_LSTM Accuracy: {cnn_lstm_accuracy:.2f} - Loss: {cnn_lstm_loss:.2f}\")\n"
      ],
      "metadata": {
        "id": "TijAOopABHTT",
        "colab": {
          "base_uri": "https://localhost:8080/"
        },
        "outputId": "a875a8ea-a79f-4813-ddae-70c83b6ce093"
      },
      "execution_count": null,
      "outputs": [
        {
          "output_type": "stream",
          "name": "stdout",
          "text": [
            "MLP Accuracy: 0.98 - Loss: 0.06\n",
            "CNN Accuracy: 0.99 - Loss: 0.02\n"
          ]
        }
      ]
    },
    {
      "cell_type": "code",
      "source": [
        "import numpy as np\n",
        "import librosa\n",
        "import tensorflow as tf\n",
        "from tensorflow.keras.models import Sequential\n",
        "from tensorflow.keras.layers import Conv1D, MaxPooling1D, Dropout, Flatten, Dense, Reshape\n",
        "\n",
        "def predict_audio_class(file_path, model, label_map, sample_rate=22050, n_mfcc=40, max_pad_length=100):\n",
        "    \"\"\"\n",
        "    Prédit la classe d'un fichier audio en utilisant le modèle CNN.\n",
        "\n",
        "    Args:\n",
        "        file_path (str): Chemin vers le fichier audio à tester\n",
        "        model: Modèle Keras entraîné\n",
        "        label_map (dict): Dictionnaire de mapping des labels\n",
        "        sample_rate (int): Fréquence d'échantillonnage\n",
        "        n_mfcc (int): Nombre de coefficients MFCC à extraire\n",
        "        max_pad_length (int): Longueur maximale pour le padding\n",
        "\n",
        "    Returns:\n",
        "        tuple: (classe prédite, probabilités par classe)\n",
        "    \"\"\"\n",
        "    # Extraire les MFCC\n",
        "    mfcc = extract_mfcc(file_path, max_pad_length)\n",
        "    if mfcc is None:\n",
        "        return None, None\n",
        "\n",
        "    # Redimensionner pour le modèle (ajout de la dimension channel)\n",
        "    mfcc = mfcc.reshape(1, mfcc.shape[0], mfcc.shape[1], 1)\n",
        "\n",
        "    # Normalisation\n",
        "    mfcc = mfcc.astype('float32') / np.max(mfcc)\n",
        "\n",
        "    # Redimensionner pour le CNN\n",
        "    mfcc = np.reshape(mfcc, (mfcc.shape[0], -1))\n",
        "\n",
        "    # Prédiction\n",
        "    predictions = model.predict(mfcc)\n",
        "    predicted_class_idx = np.argmax(predictions[0])\n",
        "\n",
        "    # Trouver le nom de la classe correspondante\n",
        "    predicted_class = [k for k, v in label_map.items() if v == predicted_class_idx][0]\n",
        "\n",
        "    # Créer un dictionnaire des probabilités par classe\n",
        "    class_probabilities = {class_name: float(prob)\n",
        "                          for class_name, prob in zip(label_map.keys(), predictions[0])}\n",
        "\n",
        "    return predicted_class, class_probabilities\n",
        "\n"
      ],
      "metadata": {
        "id": "1SlPW0Bx_4jB"
      },
      "execution_count": null,
      "outputs": []
    },
    {
      "cell_type": "code",
      "source": [
        "# Exemple d'utilisation:\n",
        "predicted_class, probabilities = predict_audio_class(\"bur1.wav\", cnn_model, label_map)\n",
        "print(f\"Classe prédite: {predicted_class}\")\n",
        "print(f\"Probabilités: {probabilities}\")"
      ],
      "metadata": {
        "colab": {
          "base_uri": "https://localhost:8080/"
        },
        "id": "NkDAWd9bABZM",
        "outputId": "b5b28fbd-2cd6-4ac2-fbd5-1d520d163904"
      },
      "execution_count": null,
      "outputs": [
        {
          "output_type": "stream",
          "name": "stdout",
          "text": [
            "\u001b[1m1/1\u001b[0m \u001b[32m━━━━━━━━━━━━━━━━━━━━\u001b[0m\u001b[37m\u001b[0m \u001b[1m0s\u001b[0m 40ms/step\n",
            "Classe prédite: burping\n",
            "Probabilités: {'tired': 1.4220613805303794e-16, 'burping': 1.0, 'hungry': 3.631451761521021e-08, 'belly_pain': 3.032013049376718e-14, 'discomfort': 3.2690058694087446e-16}\n"
          ]
        }
      ]
    },
    {
      "cell_type": "code",
      "source": [
        "# Sauvegarde du modèle complet (architecture + poids + compile info)\n",
        "cnn_model.save('cnn_model.h5')\n"
      ],
      "metadata": {
        "colab": {
          "base_uri": "https://localhost:8080/"
        },
        "id": "ID88iV5mSEL4",
        "outputId": "3c412e80-17f8-41a7-ce1d-e3e49a88bbad"
      },
      "execution_count": null,
      "outputs": [
        {
          "output_type": "stream",
          "name": "stderr",
          "text": [
            "WARNING:absl:You are saving your model as an HDF5 file via `model.save()` or `keras.saving.save_model(model)`. This file format is considered legacy. We recommend using instead the native Keras format, e.g. `model.save('my_model.keras')` or `keras.saving.save_model(model, 'my_model.keras')`. \n"
          ]
        }
      ]
    },
    {
      "cell_type": "code",
      "source": [
        "from google.colab import files\n",
        "files.download('cnn_model.h5')\n"
      ],
      "metadata": {
        "colab": {
          "base_uri": "https://localhost:8080/",
          "height": 17
        },
        "id": "S66CBumrR9ZN",
        "outputId": "aa58129b-588d-44ab-ea95-9a038d059d48"
      },
      "execution_count": null,
      "outputs": [
        {
          "output_type": "display_data",
          "data": {
            "text/plain": [
              "<IPython.core.display.Javascript object>"
            ],
            "application/javascript": [
              "\n",
              "    async function download(id, filename, size) {\n",
              "      if (!google.colab.kernel.accessAllowed) {\n",
              "        return;\n",
              "      }\n",
              "      const div = document.createElement('div');\n",
              "      const label = document.createElement('label');\n",
              "      label.textContent = `Downloading \"${filename}\": `;\n",
              "      div.appendChild(label);\n",
              "      const progress = document.createElement('progress');\n",
              "      progress.max = size;\n",
              "      div.appendChild(progress);\n",
              "      document.body.appendChild(div);\n",
              "\n",
              "      const buffers = [];\n",
              "      let downloaded = 0;\n",
              "\n",
              "      const channel = await google.colab.kernel.comms.open(id);\n",
              "      // Send a message to notify the kernel that we're ready.\n",
              "      channel.send({})\n",
              "\n",
              "      for await (const message of channel.messages) {\n",
              "        // Send a message to notify the kernel that we're ready.\n",
              "        channel.send({})\n",
              "        if (message.buffers) {\n",
              "          for (const buffer of message.buffers) {\n",
              "            buffers.push(buffer);\n",
              "            downloaded += buffer.byteLength;\n",
              "            progress.value = downloaded;\n",
              "          }\n",
              "        }\n",
              "      }\n",
              "      const blob = new Blob(buffers, {type: 'application/binary'});\n",
              "      const a = document.createElement('a');\n",
              "      a.href = window.URL.createObjectURL(blob);\n",
              "      a.download = filename;\n",
              "      div.appendChild(a);\n",
              "      a.click();\n",
              "      div.remove();\n",
              "    }\n",
              "  "
            ]
          },
          "metadata": {}
        },
        {
          "output_type": "display_data",
          "data": {
            "text/plain": [
              "<IPython.core.display.Javascript object>"
            ],
            "application/javascript": [
              "download(\"download_7730e1b8-87bf-41cb-8f7f-17ff7266a0df\", \"cnn_model.h5\", 589782952)"
            ]
          },
          "metadata": {}
        }
      ]
    }
  ]
}